{
  "cells": [
   {
    "cell_type": "markdown",
    "id": "bf1449ea-bd35-4766-86d4-61f5939389e8",
    "metadata": {},
    "source": [
     "### md cell\n",
     "\n",
     "- row1\n",
     "- row2"
    ]
   },
   {
    "cell_type": "raw",
    "id": "14ff5716-b3b0-4c12-99e2-6ff2be263faf",
    "metadata": {},
    "source": [
     "RAW cell"
    ]
   },
   {
    "cell_type": "code",
    "execution_count": 1,
    "id": "663e37f0-9022-46ab-a591-0fae4fcfc286",
    "metadata": {},
    "outputs": [
     {
      "data": {
       "text/plain": [
        "'direct'"
       ]
      },
      "execution_count": 1,
      "metadata": {},
      "output_type": "execute_result"
     }
    ],
    "source": [
     "\"direct\""
    ]
   },
   {
    "cell_type": "code",
    "execution_count": 2,
    "id": "57997921-9a00-47bc-9fc1-5bd8eb9c9423",
    "metadata": {},
    "outputs": [
     {
      "name": "stdout",
      "output_type": "stream",
      "text": [
       "stdout\n"
      ]
     }
    ],
    "source": [
     "print(\"stdout\")"
    ]
   },
   {
    "cell_type": "code",
    "execution_count": 3,
    "id": "18b5eb31-02d6-4c18-817e-ed50b7bc4251",
    "metadata": {},
    "outputs": [
     {
      "name": "stderr",
      "output_type": "stream",
      "text": [
       "stderr\n"
      ]
     }
    ],
    "source": [
     "import sys\n",
     "print(\"stderr\", file=sys.stderr)"
    ]
   },
   {
    "cell_type": "code",
    "execution_count": 4,
    "id": "cdb99082-c70c-43e4-adde-ef3414bba2ec",
    "metadata": {},
    "outputs": [
     {
      "data": {
       "application/json": {
        "1": 2,
        "3": 4
       },
       "text/plain": [
        "<IPython.core.display.JSON object>"
       ]
      },
      "execution_count": 4,
      "metadata": {
       "application/json": {
        "expanded": false,
        "root": "root"
       }
      },
      "output_type": "execute_result"
     }
    ],
    "source": [
     "from IPython.display import JSON\n",
     "\n",
     "JSON({1: 2, 3: 4})"
    ]
   },
   {
    "cell_type": "code",
    "execution_count": 5,
    "id": "43190704-2a11-4fbe-ba98-4ee279147d9e",
    "metadata": {},
    "outputs": [
     {
      "ename": "KeyboardInterrupt",
      "evalue": "",
      "output_type": "error",
      "traceback": [
       "\u001b[0;31m---------------------------------------------------------------------------\u001b[0m",
       "\u001b[0;31mKeyboardInterrupt\u001b[0m                         Traceback (most recent call last)",
       "Cell \u001b[0;32mIn[5], line 2\u001b[0m\n\u001b[1;32m      1\u001b[0m \u001b[38;5;28;01mimport\u001b[39;00m \u001b[38;5;21;01mtime\u001b[39;00m\n\u001b[0;32m----> 2\u001b[0m \u001b[43mtime\u001b[49m\u001b[38;5;241;43m.\u001b[39;49m\u001b[43msleep\u001b[49m\u001b[43m(\u001b[49m\u001b[38;5;241;43m10\u001b[39;49m\u001b[43m)\u001b[49m\n",
       "\u001b[0;31mKeyboardInterrupt\u001b[0m: "
      ]
     }
    ],
    "source": [
     "import time\n",
     "time.sleep(10)\n"
    ]
   },
   {
    "cell_type": "code",
    "execution_count": null,
    "id": "bfa762c5-a408-4e82-82d7-6d462e36b0e2",
    "metadata": {},
    "outputs": [],
    "source": []
   }
  ],
  "metadata": {
   "kernelspec": {
    "display_name": "Python 3 (ipykernel)",
    "language": "python",
    "name": "python3"
   },
   "language_info": {
    "codemirror_mode": {
     "name": "ipython",
     "version": 3
    },
    "file_extension": ".py",
    "mimetype": "text/x-python",
    "name": "python",
    "nbconvert_exporter": "python",
    "pygments_lexer": "ipython3",
    "version": "3.12.7"
   },
   "hugo": {
    "date": "2024-11-05"
   }
  },
  "nbformat": 4,
  "nbformat_minor": 5
 }
 